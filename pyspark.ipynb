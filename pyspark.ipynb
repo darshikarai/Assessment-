{
  "nbformat": 4,
  "nbformat_minor": 0,
  "metadata": {
    "colab": {
      "provenance": []
    },
    "kernelspec": {
      "name": "python3",
      "display_name": "Python 3"
    },
    "language_info": {
      "name": "python"
    }
  },
  "cells": [
    {
      "cell_type": "code",
      "execution_count": 1,
      "metadata": {
        "colab": {
          "base_uri": "https://localhost:8080/"
        },
        "id": "_rK01rY3np0D",
        "outputId": "bb197694-410d-4fd2-dae1-2a5ea05d3e47"
      },
      "outputs": [
        {
          "output_type": "stream",
          "name": "stdout",
          "text": [
            "Requirement already satisfied: pandas in /usr/local/lib/python3.10/dist-packages (2.0.3)\n",
            "Collecting pyspark\n",
            "  Downloading pyspark-3.5.1.tar.gz (317.0 MB)\n",
            "\u001b[2K     \u001b[90m━━━━━━━━━━━━━━━━━━━━━━━━━━━━━━━━━━━━━━━━\u001b[0m \u001b[32m317.0/317.0 MB\u001b[0m \u001b[31m3.6 MB/s\u001b[0m eta \u001b[36m0:00:00\u001b[0m\n",
            "\u001b[?25h  Preparing metadata (setup.py) ... \u001b[?25l\u001b[?25hdone\n",
            "Requirement already satisfied: python-dateutil>=2.8.2 in /usr/local/lib/python3.10/dist-packages (from pandas) (2.8.2)\n",
            "Requirement already satisfied: pytz>=2020.1 in /usr/local/lib/python3.10/dist-packages (from pandas) (2023.4)\n",
            "Requirement already satisfied: tzdata>=2022.1 in /usr/local/lib/python3.10/dist-packages (from pandas) (2024.1)\n",
            "Requirement already satisfied: numpy>=1.21.0 in /usr/local/lib/python3.10/dist-packages (from pandas) (1.25.2)\n",
            "Requirement already satisfied: py4j==0.10.9.7 in /usr/local/lib/python3.10/dist-packages (from pyspark) (0.10.9.7)\n",
            "Requirement already satisfied: six>=1.5 in /usr/local/lib/python3.10/dist-packages (from python-dateutil>=2.8.2->pandas) (1.16.0)\n",
            "Building wheels for collected packages: pyspark\n",
            "  Building wheel for pyspark (setup.py) ... \u001b[?25l\u001b[?25hdone\n",
            "  Created wheel for pyspark: filename=pyspark-3.5.1-py2.py3-none-any.whl size=317488491 sha256=ce3edbdba53f560813992c3d3d29d93c7a670f58c32c73e32d1c2c1b03467dc6\n",
            "  Stored in directory: /root/.cache/pip/wheels/80/1d/60/2c256ed38dddce2fdd93be545214a63e02fbd8d74fb0b7f3a6\n",
            "Successfully built pyspark\n",
            "Installing collected packages: pyspark\n",
            "Successfully installed pyspark-3.5.1\n"
          ]
        }
      ],
      "source": [
        "pip install pandas pyspark"
      ]
    },
    {
      "cell_type": "code",
      "source": [
        "from pyspark.sql import SparkSession\n",
        "from pyspark.sql.functions import col, sum, when\n",
        "from pyspark.sql.window import Window\n",
        "\n",
        "# Initialize SparkSession\n",
        "spark = SparkSession.builder.appName(\"AccountBalance\").getOrCreate()\n",
        "\n",
        "# Sample data\n",
        "data = [\n",
        "    (\"2023-01-01\", \"100\", \"Credit\", 1000),\n",
        "    (\"2023-01-02\", \"100\", \"Credit\", 1500),\n",
        "    (\"2023-01-03\", \"100\", \"Debit\", 1000),\n",
        "    (\"2023-01-02\", \"200\", \"Credit\", 3500),\n",
        "    (\"2023-01-03\", \"200\", \"Debit\", 2000),\n",
        "    (\"2023-01-04\", \"200\", \"Credit\", 3500),\n",
        "    (\"2023-01-13\", \"300\", \"Credit\", 4000),\n",
        "    (\"2023-01-14\", \"300\", \"Debit\", 4500),\n",
        "    (\"2023-01-15\", \"300\", \"Credit\", 1500),\n",
        "]\n",
        "\n",
        "# Define schema\n",
        "columns = [\"TransactionDate\", \"AccountNumber\", \"TransactionType\", \"Amount\"]\n",
        "\n",
        "# Create DataFrame\n",
        "df = spark.createDataFrame(data, columns)\n",
        "\n",
        "# Define window specification\n",
        "windowSpec = Window.partitionBy(\"AccountNumber\").orderBy(\"TransactionDate\").rowsBetween(Window.unboundedPreceding, Window.currentRow)\n",
        "\n",
        "# Calculate balance\n",
        "df_with_balance = df.withColumn(\n",
        "    \"Amount_Adjusted\",\n",
        "    when(col(\"TransactionType\") == \"Credit\", col(\"Amount\")).otherwise(-col(\"Amount\"))\n",
        ").withColumn(\n",
        "    \"CurrentBalance\",\n",
        "    sum(\"Amount_Adjusted\").over(windowSpec)\n",
        ").drop(\"Amount_Adjusted\")\n",
        "\n",
        "# Show result\n",
        "df_with_balance.show()\n"
      ],
      "metadata": {
        "colab": {
          "base_uri": "https://localhost:8080/"
        },
        "id": "Nzpn1Azon2V9",
        "outputId": "c103afe9-a91a-494f-8a37-15c8916d1f8e"
      },
      "execution_count": 2,
      "outputs": [
        {
          "output_type": "stream",
          "name": "stdout",
          "text": [
            "+---------------+-------------+---------------+------+--------------+\n",
            "|TransactionDate|AccountNumber|TransactionType|Amount|CurrentBalance|\n",
            "+---------------+-------------+---------------+------+--------------+\n",
            "|     2023-01-01|          100|         Credit|  1000|          1000|\n",
            "|     2023-01-02|          100|         Credit|  1500|          2500|\n",
            "|     2023-01-03|          100|          Debit|  1000|          1500|\n",
            "|     2023-01-02|          200|         Credit|  3500|          3500|\n",
            "|     2023-01-03|          200|          Debit|  2000|          1500|\n",
            "|     2023-01-04|          200|         Credit|  3500|          5000|\n",
            "|     2023-01-13|          300|         Credit|  4000|          4000|\n",
            "|     2023-01-14|          300|          Debit|  4500|          -500|\n",
            "|     2023-01-15|          300|         Credit|  1500|          1000|\n",
            "+---------------+-------------+---------------+------+--------------+\n",
            "\n"
          ]
        }
      ]
    },
    {
      "cell_type": "code",
      "source": [],
      "metadata": {
        "id": "Cb-QYsyLohSw"
      },
      "execution_count": null,
      "outputs": []
    },
    {
      "cell_type": "markdown",
      "source": [
        "## If importing dataset from excel file\n"
      ],
      "metadata": {
        "id": "PkKe05kroi8H"
      }
    },
    {
      "cell_type": "code",
      "source": [
        "from pyspark.sql import SparkSession\n",
        "from pyspark.sql.functions import col, sum, when\n",
        "from pyspark.sql.window import Window\n",
        "import pandas as pd\n",
        "\n",
        "# Initialize SparkSession\n",
        "spark = SparkSession.builder.appName(\"AccountBalance\").getOrCreate()\n",
        "\n",
        "excel_file_path = \"path/to/your/excel/file.xlsx\"\n",
        "pandas_df = pd.read_excel(excel_file_path)\n",
        "\n",
        "# Convert Pandas DataFrame to Spark DataFrame\n",
        "df = spark.createDataFrame(pandas_df)\n",
        "\n",
        "# Define window specification\n",
        "windowSpec = Window.partitionBy(\"AccountNumber\").orderBy(\"TransactionDate\").rowsBetween(Window.unboundedPreceding, Window.currentRow)\n",
        "\n",
        "# Calculate balance\n",
        "df_with_balance = df.withColumn(\n",
        "    \"Amount_Adjusted\",\n",
        "    when(col(\"TransactionType\") == \"Credit\", col(\"Amount\")).otherwise(-col(\"Amount\"))\n",
        ").withColumn(\n",
        "    \"CurrentBalance\",\n",
        "    sum(\"Amount_Adjusted\").over(windowSpec)\n",
        ").drop(\"Amount_Adjusted\")\n",
        "\n",
        "# Show result\n",
        "df_with_balance.show()\n"
      ],
      "metadata": {
        "id": "BqxPH28koqbx"
      },
      "execution_count": null,
      "outputs": []
    }
  ]
}